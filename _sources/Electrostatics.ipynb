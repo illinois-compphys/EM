{
 "cells": [
  {
   "cell_type": "markdown",
   "metadata": {},
   "source": [
    "# Electrostatics"
   ]
  },
  {
   "cell_type": "markdown",
   "metadata": {},
   "source": [
    "* **Author:**\n",
    "\n",
    "* **Date:**\n",
    "\n",
    "* **Time spent on this assignment:**"
   ]
  },
  {
   "cell_type": "markdown",
   "metadata": {},
   "source": [
    "*Note:* You must answer things inside the answer tags as well as questions which have an **A:**."
   ]
  },
  {
   "cell_type": "code",
   "execution_count": 2,
   "metadata": {
    "tags": [
     "hide-cell"
    ]
   },
   "outputs": [
    {
     "data": {
      "text/plain": [
       "datetime.datetime(2024, 8, 15, 21, 40, 46, 376855)"
      ]
     },
     "execution_count": 2,
     "metadata": {},
     "output_type": "execute_result"
    }
   ],
   "source": [
    "\n",
    "import numpy as np\n",
    "import matplotlib.pyplot as plt\n",
    "import math\n",
    "#from jax.config import config\n",
    "#config.update(\"jax_enable_x64\", True)\n",
    "#from jax import jit, grad\n",
    "#import jax.numpy as jnp\n",
    "#import jax\n",
    "\n",
    "import matplotlib.animation as animation\n",
    "from IPython.display import HTML\n",
    "def resetMe(keepList=[]):\n",
    "    ll=%who_ls\n",
    "    keepList=keepList+['resetMe','np','plt','math','jax','jnp','jit','grad','HTML','animation','animateMe_singlePendula']\n",
    "    for iiii in keepList:\n",
    "        if iiii in ll:\n",
    "            ll.remove(iiii)\n",
    "    for iiii in ll:\n",
    "        jjjj=\"^\"+iiii+\"$\"\n",
    "        %reset_selective -f {jjjj}\n",
    "    ll=%who_ls\n",
    "    plt.rcParams.update({\"font.size\": 14})\n",
    "    return\n",
    "resetMe()\n",
    "import datetime;datetime.datetime.now()"
   ]
  },
  {
   "cell_type": "markdown",
   "metadata": {},
   "source": [
    "In this project we are going to explore electrostatic potentials."
   ]
  },
  {
   "cell_type": "markdown",
   "metadata": {},
   "source": [
    "## Exercise 1.  Electrostatics from static charges"
   ]
  },
  {
   "cell_type": "markdown",
   "metadata": {},
   "source": [
    "* **List of collaborators:**\n",
    "\n",
    "* **References you used in developing your code:**"
   ]
  },
  {
   "cell_type": "markdown",
   "metadata": {},
   "source": [
    "In this section we are going to start by exploring the electric field that is generated from distribution of point charges.  In many cases, these will be distributions that you will be able to work with analytically and can verify in some limits. "
   ]
  },
  {
   "cell_type": "markdown",
   "metadata": {},
   "source": [
    "Let us start by writing a function  `E(q,r,positions)` where `r` is the location of the charge as a numpy array `[x,y,z]` and `positions` is a two-dimensional numpy array of size $p \\times 3$ which are the three-dimensional functions you want to report the position at.  This function should return the electric field vectors at the $p$ positions as a $p \\times 3$ numpy array. \n"
   ]
  },
  {
   "cell_type": "markdown",
   "metadata": {},
   "source": [
    "<div><img src=\"https://clark.physics.illinois.edu/246img/AnsStart.svg\" width=200 align=left alt=\"Answer (start)\"></img><br></div>"
   ]
  },
  {
   "cell_type": "code",
   "execution_count": 1,
   "metadata": {},
   "outputs": [],
   "source": [
    "### answer here"
   ]
  },
  {
   "cell_type": "markdown",
   "metadata": {},
   "source": [
    "<div><img src=\"https://clark.physics.illinois.edu/246img/AnsEnd.svg\" width=200 align=left alt=\"Answer (end)\"></img><br></div>"
   ]
  },
  {
   "cell_type": "markdown",
   "metadata": {},
   "source": [
    "### a. A Monopole"
   ]
  },
  {
   "cell_type": "markdown",
   "metadata": {},
   "source": [
    "Our goal now is to plot the electric field for various different charge distributions.  We will start with a monopole - a single charge $q$ - at the origin.\n",
    "\n",
    "It's a little bit difficult to plot the electric field in three-dimensions so instead are going to start by plotting the electric field in a two-dimensional slice.   \n",
    "\n",
    "Evaluate the field from a single negative charge of value -1 at the origin at $z=0$ in a square $-5 \\leq x \\leq 5$ and $-5 \\leq y \\leq 5$. Let's say we will do a resolution of 100x100 points.   \n",
    "\n",
    "An easy way to get the list that you need to input into your function is the following:  \n",
    "\n",
    "The code below generates a positions array that is $100^2 \\times 3$ which you can input to your function.\n",
    "\n",
    "```\n",
    "numPoints=100\n",
    "xs=np.linspace(-5,5,numPoints)\n",
    "ys=np.linspace(-5,5,numPoints)\n",
    "X,Y=np.meshgrid(xs,ys)\n",
    "Z=np.zeros((100,100))\n",
    "positions=np.vstack((X.flatten(),Y.flatten(),Z.flatten())).T\n",
    "```\n",
    "\n",
    "Using your function, generate the electric field as output and plot it as below.\n",
    "\n",
    "**Plot the electric field**\n",
    "\n",
    "Once you have the electric field output, we can now plot it. We are only looking in the XY plane, so we are only going to plot the field lines which are in this plane ignoring field lines which are in the $\\hat{z}$ direction.\n",
    "\n",
    "You can plot the field lines using\n",
    "```\n",
    "E_x=np.reshape(Field[0],(numPoints,numPoints))   \n",
    "E_y=np.reshape(Field[1],(numPoints,numPoints))\n",
    "E_z=np.reshape(Field[2],(numPoints,numPoints))\n",
    "\n",
    "plt.streamplot(X,Y,E_x, E_y,  linewidth=1.0, cmap=plt.cm.inferno, density = 1.0, arrowstyle='->', arrowsize=1)\n",
    "plt.colorbar()\n",
    "```\n",
    "\n",
    "It is sometimes interesting to also represent the total magnitude of the field lines (including the field in the z-direction) by including a `color=Emag` parameter to the streamplot.   \n"
   ]
  },
  {
   "cell_type": "markdown",
   "metadata": {},
   "source": [
    "<div><img src=\"https://clark.physics.illinois.edu/246img/AnsStart.svg\" width=200 align=left alt=\"Answer (start)\"></img><br></div>"
   ]
  },
  {
   "cell_type": "code",
   "execution_count": 2,
   "metadata": {},
   "outputs": [],
   "source": [
    "### answer here"
   ]
  },
  {
   "cell_type": "markdown",
   "metadata": {},
   "source": [
    "<div><img src=\"https://clark.physics.illinois.edu/246img/AnsEnd.svg\" width=200 align=left alt=\"Answer (end)\"></img><br></div>"
   ]
  },
  {
   "cell_type": "markdown",
   "metadata": {},
   "source": [
    "In addition to plotting the field lines, we would like to plot the electric field as a function of distance.  We expect that this should decay as $1/r^2$.   Give your `E` function a set of positions which go from 0.1 to 4.0 in the x-direction (`np.linspace`) and are 0 in the y and z directions. \n",
    "\n",
    "* Make a plot of x versus the value of the field in the x-direction. \n",
    "* Also make a log-log plot. This should be linear.\n",
    "* Fit a line (`np.polyfit(xx,yy,1))` to the log-log plot. You should get a slope of -2 which corresopnds to a decay of $1/r^2$"
   ]
  },
  {
   "cell_type": "markdown",
   "metadata": {},
   "source": [
    "<div><img src=\"https://clark.physics.illinois.edu/246img/AnsStart.svg\" width=200 align=left alt=\"Answer (start)\"></img><br></div>"
   ]
  },
  {
   "cell_type": "code",
   "execution_count": 3,
   "metadata": {},
   "outputs": [],
   "source": [
    "### answer here"
   ]
  },
  {
   "cell_type": "markdown",
   "metadata": {},
   "source": [
    "<div><img src=\"https://clark.physics.illinois.edu/246img/AnsEnd.svg\" width=200 align=left alt=\"Answer (end)\"></img><br></div>"
   ]
  },
  {
   "cell_type": "markdown",
   "metadata": {},
   "source": [
    "### b. Dipole"
   ]
  },
  {
   "cell_type": "markdown",
   "metadata": {},
   "source": [
    "We essentially want to do the same thing as we did in part (a) but now with a dipole. A dipole consists of two oppositely valued charges which are located a distance $d=2$ apart.  \n",
    "\n",
    "Plot the following:\n",
    "\n",
    "* Field lines for the dipole\n",
    "* $E_x$ as a function of $x$\n",
    "* Show that at large $x$, $E_x \\propto 1/x^3$.  It's important to be at large $x$ here.  I ploted from $x=1.2$ to $x=50$ and only fit the line after $x=30$"
   ]
  },
  {
   "cell_type": "markdown",
   "metadata": {},
   "source": [
    "<div><img src=\"https://clark.physics.illinois.edu/246img/AnsStart.svg\" width=200 align=left alt=\"Answer (start)\"></img><br></div>"
   ]
  },
  {
   "cell_type": "code",
   "execution_count": 4,
   "metadata": {},
   "outputs": [],
   "source": [
    "### answer here"
   ]
  },
  {
   "cell_type": "code",
   "execution_count": 5,
   "metadata": {},
   "outputs": [],
   "source": [
    "### answer here"
   ]
  },
  {
   "cell_type": "markdown",
   "metadata": {},
   "source": [
    "<div><img src=\"https://clark.physics.illinois.edu/246img/AnsEnd.svg\" width=200 align=left alt=\"Answer (end)\"></img><br></div>"
   ]
  },
  {
   "cell_type": "markdown",
   "metadata": {},
   "source": [
    "### c. Quadrapole"
   ]
  },
  {
   "cell_type": "markdown",
   "metadata": {},
   "source": [
    "Now let's do essentially the same thing with the quadropole where you have \n",
    "* two negative charges at (1,0,0) and (-1,0,0)\n",
    "* two positive charges at (0,1,0) and (0,-1,0)\n",
    "\n",
    "Please plot the following\n",
    "* Field lines for the quadropole.\n",
    "* $E_x$ as a function of $x$\n",
    "* Show that at large $x$, $E_x \\propto 1/x^4$. "
   ]
  },
  {
   "cell_type": "markdown",
   "metadata": {},
   "source": [
    "<div><img src=\"https://clark.physics.illinois.edu/246img/AnsStart.svg\" width=200 align=left alt=\"Answer (start)\"></img><br></div>"
   ]
  },
  {
   "cell_type": "code",
   "execution_count": 6,
   "metadata": {},
   "outputs": [],
   "source": [
    "### answer here"
   ]
  },
  {
   "cell_type": "markdown",
   "metadata": {},
   "source": [
    "<div><img src=\"https://clark.physics.illinois.edu/246img/AnsEnd.svg\" width=200 align=left alt=\"Answer (end)\"></img><br></div>"
   ]
  },
  {
   "cell_type": "markdown",
   "metadata": {},
   "source": [
    "### d. Ring of Charge"
   ]
  },
  {
   "cell_type": "markdown",
   "metadata": {},
   "source": [
    "In this problem we are going to work on a ring of charge with radius $a=1$ and total charge $q=-1$ that is in the XY plane.   In this problem you will\n",
    "*  make a plot of the field lines in the \n",
    "    * XY plane at z=0\n",
    "    * XY plane at z=3\n",
    "    * XZ plane at y=0\n",
    "*  make a plot of the field at large $x$.  Show that at large $x$, the ring of charge decays like $1/r^2$, i.e. just like a single point.  Explain why this is to be expected.\n",
    "* make a plot and show that at all $z$ on the central axis of the ring that the electric field in the z direction goes as $qz/(a^2+z^2)^{3/2}$\n"
   ]
  },
  {
   "cell_type": "markdown",
   "metadata": {},
   "source": [
    "<div><img src=\"https://clark.physics.illinois.edu/246img/AnsStart.svg\" width=200 align=left alt=\"Answer (start)\"></img><br></div>"
   ]
  },
  {
   "cell_type": "code",
   "execution_count": 11,
   "metadata": {},
   "outputs": [],
   "source": [
    "### answer here"
   ]
  },
  {
   "cell_type": "code",
   "execution_count": 7,
   "metadata": {},
   "outputs": [],
   "source": [
    "### answer here"
   ]
  },
  {
   "cell_type": "code",
   "execution_count": 8,
   "metadata": {},
   "outputs": [],
   "source": [
    "### answer here"
   ]
  },
  {
   "cell_type": "markdown",
   "metadata": {},
   "source": []
  },
  {
   "cell_type": "code",
   "execution_count": 9,
   "metadata": {},
   "outputs": [],
   "source": [
    "### answer here"
   ]
  },
  {
   "cell_type": "code",
   "execution_count": 10,
   "metadata": {},
   "outputs": [],
   "source": [
    "### answer here"
   ]
  },
  {
   "cell_type": "markdown",
   "metadata": {},
   "source": [
    "<div><img src=\"https://clark.physics.illinois.edu/246img/AnsEnd.svg\" width=200 align=left alt=\"Answer (end)\"></img><br></div>"
   ]
  },
  {
   "cell_type": "markdown",
   "metadata": {},
   "source": [
    "## Exercise 2. Conductors"
   ]
  },
  {
   "cell_type": "markdown",
   "metadata": {},
   "source": [
    "In this exercise, our goal is to understand the role of point charges on conductors.  "
   ]
  },
  {
   "cell_type": "code",
   "execution_count": null,
   "metadata": {},
   "outputs": [],
   "source": []
  }
 ],
 "metadata": {
  "kernelspec": {
   "display_name": "Python 3",
   "language": "python",
   "name": "python3"
  },
  "language_info": {
   "codemirror_mode": {
    "name": "ipython",
    "version": 3
   },
   "file_extension": ".py",
   "mimetype": "text/x-python",
   "name": "python",
   "nbconvert_exporter": "python",
   "pygments_lexer": "ipython3",
   "version": "3.9.6"
  }
 },
 "nbformat": 4,
 "nbformat_minor": 2
}
