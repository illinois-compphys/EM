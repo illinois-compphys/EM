{
 "cells": [
  {
   "cell_type": "markdown",
   "metadata": {},
   "source": [
    "# Electrodynamics"
   ]
  },
  {
   "cell_type": "markdown",
   "metadata": {},
   "source": [
    "* **Author:**\n",
    "\n",
    "* **Date:**\n",
    "\n",
    "* **Time spent on this assignment:**"
   ]
  },
  {
   "cell_type": "code",
   "execution_count": 1,
   "metadata": {
    "tags": [
     "hide-cell"
    ]
   },
   "outputs": [],
   "source": [
    "\n",
    "import numpy as np\n",
    "import matplotlib.pyplot as plt\n",
    "import scipy\n",
    "import matplotlib.patches as patches\n",
    "import matplotlib.colors as mcl\n",
    "import warnings\n",
    "from functools import partial\n",
    "import matplotlib.animation as animation\n",
    "from IPython.display import HTML\n",
    "def resetMe(keepList=[]):\n",
    "    ll=%who_ls\n",
    "    keepList=keepList+['resetMe','np','plt','math','jax','jnp','jit','grad','HTML','animation','mcl','scipy','patches','mcl','warnings','config','partial','datetime','c','epsilon0']\n",
    "    for iiii in keepList:\n",
    "        if iiii in ll:\n",
    "            ll.remove(iiii)\n",
    "    for iiii in ll:\n",
    "        jjjj=\"^\"+iiii+\"$\"\n",
    "        %reset_selective -f {jjjj}\n",
    "    ll=%who_ls\n",
    "    plt.rcParams.update({\"font.size\": 14})\n",
    "    return\n",
    "resetMe()\n",
    "import datetime;datetime.datetime.now()\n",
    "warnings.filterwarnings(\"ignore\", message=\"RMS of\", category=RuntimeWarning)\n",
    "warnings.filterwarnings(\"ignore\", message=\"some failed to converge\", category=RuntimeWarning)\n",
    "epsilon0=8.854187817e-12\n",
    "c=3e8\n",
    "q=1.6e-19"
   ]
  },
  {
   "cell_type": "code",
   "execution_count": 2,
   "metadata": {
    "tags": [
     "hide-cell"
    ]
   },
   "outputs": [],
   "source": [
    "\n",
    "def PlotScalarField(field,L):\n",
    "    assert(field.ndim==1)\n",
    "    length = len(field)\n",
    "    side_length = int(np.sqrt(length))\n",
    "    field_2d=field.reshape(side_length,side_length)\n",
    "    plt.imshow(field_2d,extent=[-L,L,-L,L],cmap='hsv')\n",
    "    plt.colorbar()\n",
    "    return\n",
    "\n",
    "\n",
    "def PlotField(X,Y,field,density=2.0):\n",
    "    assert(field.ndim==2)\n",
    "    length = field.shape[0]\n",
    "    side_length = int(np.sqrt(length))\n",
    "    field_2d=field.reshape(side_length,side_length,3)\n",
    "    E_x=field_2d[:,:,0]\n",
    "    E_y=field_2d[:,:,1]\n",
    "    E_z=field_2d[:,:,2]\n",
    "    E_strength=np.log(E_x**2+E_y**2+E_z**2)\n",
    "    fig, ax = plt.subplots()\n",
    "    ax.streamplot(X,Y,E_x, E_y, color=E_strength, linewidth=1.0, cmap='hsv', density = density, arrowstyle='->', arrowsize=1)\n",
    "    \n",
    "    \n",
    "    \n",
    "def PlotSliceY(field,L,x=0,marker=None,linestyle='-'):\n",
    "    assert(field.ndim==1)\n",
    "    length = len(field)\n",
    "    side_length = int(np.sqrt(length))\n",
    "    field_2d=field.reshape(side_length,side_length)\n",
    "    loc=int((x/L+0.5)*side_length)\n",
    "    length = len(field_2d[loc,:])   \n",
    "    x=np.linspace(-L,L,length)\n",
    "    plt.plot(x,field_2d[loc,:],marker=marker,linestyle=linestyle)\n",
    "\n",
    "def PlotSliceX(field,L,x=0,marker=None,linestyle='-'):\n",
    "    assert(field.ndim==1)\n",
    "    length = len(field)\n",
    "    side_length = int(np.sqrt(length))\n",
    "    field_2d=field.reshape(side_length,side_length)\n",
    "    loc=int((x/L+0.5)*side_length)\n",
    "    length = len(field_2d[loc,:])   \n",
    "    x=np.linspace(-L,L,length)\n",
    "    plt.plot(x,field_2d[:,loc],marker=marker,linestyle=linestyle)\n",
    "\n",
    "def PlotPaths(r,velocity):\n",
    "   ts=np.linspace(-1e-8,1e-8,1000)\n",
    "   fig, axs = plt.subplots(1, 3, figsize=(15, 5))\n",
    "\n",
    "    # Plot x(t)\n",
    "   ax = axs[0]\n",
    "   ax.set_title('position')\n",
    "   ax.plot(ts, r(ts)[:, 0],label='x',linewidth=2)\n",
    "   ax.plot(ts, r(ts)[:, 1],label='y',linewidth=2)\n",
    "   ax.set_xlabel('t')\n",
    "   ax.set_ylabel('position')\n",
    "   ax.legend(loc='lower right')\n",
    "   ax.grid(True)\n",
    "\n",
    "    # Plot velocity x(t)\n",
    "   ax1 = axs[1]\n",
    "   ax1.set_title('velocity')\n",
    "   ax1.plot(ts, velocity(ts)[:, 0],label='v_x',linewidth=2)\n",
    "   ax1.plot(ts, velocity(ts)[:, 1],label='v_y',linewidth=2)\n",
    "   ax1.set_xlabel('t')\n",
    "   ax1.set_ylabel('velocity')\n",
    "   ax1.legend(loc='lower right')\n",
    "   ax1.grid(True)\n",
    "\n",
    "    # Plot x-y\n",
    "   ax2 = axs[2]\n",
    "   ax2.plot(r(ts)[:, 0], r(ts)[:, 1],linewidth=2)\n",
    "   ax2.set_xlabel('x')\n",
    "   ax2.set_ylabel('y')\n",
    "   \n",
    "   ax2.grid(True)\n",
    "\n",
    "    \n",
    "    # Adjust layout\n",
    "   plt.tight_layout()\n",
    "   plt.show()\n",
    "\n",
    "\n",
    "def GetPositions(L,gridPoints):\n",
    "    xs=np.linspace(-L,L,gridPoints)\n",
    "    ys=np.linspace(-L,L,gridPoints)\n",
    "    X,Y=np.meshgrid(xs,ys)\n",
    "    Z=np.zeros((gridPoints,gridPoints))\n",
    "    positions=np.vstack((X.flatten(),Y.flatten(),Z.flatten())).T\n",
    "    return positions,X,Y\n",
    "\n",
    "class OptMeClass:\n",
    "    def __init__(self,cost,numPositions,initial_guess=None):\n",
    "        self.cost=cost\n",
    "        if initial_guess is None:\n",
    "            self.guess=-1e-8*np.ones(numPositions)\n",
    "        else:\n",
    "            self.guess=initial_guess\n",
    "    def Optimize(self,t0,positions,maxiter):\n",
    "        ts = np.zeros((positions.shape[0]))+t0\n",
    "        \n",
    "        \n",
    "        tr=scipy.optimize.newton(self.cost, self.guess,\n",
    "                               args=(t0, positions), tol=1e-23,maxiter=50)\n",
    "        self.guess=np.abs(tr)*-1\n",
    "        tr=scipy.optimize.newton(self.cost, self.guess,\n",
    "                        args=(t0, positions), tol=1e-23,maxiter=50)\n",
    "        self.guess=np.abs(tr)*-1\n",
    "        tr=scipy.optimize.newton(self.cost, self.guess,\n",
    "                               args=(t0, positions), tol=1e-23,maxiter=maxiter)\n",
    "        self.guess=np.abs(tr)*-1\n",
    "        print(\"Number of positive values\",np.sum(tr>0))\n",
    "        print(\"Cost \",np.average(self.cost(tr,t0,positions)))\n",
    "        self.tr=np.copy(tr)\n",
    "        return tr \n"
   ]
  },
  {
   "cell_type": "markdown",
   "metadata": {},
   "source": [
    "## Exercise 1.  Analytical Solutions for a Point Charge at Constant Velocity"
   ]
  },
  {
   "cell_type": "markdown",
   "metadata": {},
   "source": [
    "In this exercise, we are going to write down the analytic solutions for a moving point charge.  These are easy to look up and this will give us some experience plotting a variety of scalar and vector fields.  In the next exercise, we will develop some code which produces the same results but done in a way that allows us to generalize to any (set of) moving point charges.  This more general code will then allow us to generate the field for some interesting examples such as a charge following an orbit; and an antannea."
   ]
  },
  {
   "cell_type": "markdown",
   "metadata": {},
   "source": [
    "### a.  The Scalar Potential"
   ]
  },
  {
   "cell_type": "markdown",
   "metadata": {},
   "source": [
    "The scalar potential for a point charge (source) who position is $x(t)=v t$ at time $t$ is \n",
    "\n",
    "$$\n",
    "\\phi(r,t) = \\frac{q}{4 \\pi \\epsilon_0 \\sqrt{1 - \\left(\\frac{v}{c}\\right)^2}} \\cdot \\frac{1}{\\sqrt{\\left(\\frac{x - vt_s}{1 - \\left(\\frac{v}{c}\\right)^2}\\right)^2 + y^2 + z^2}}\n",
    "$$\n",
    "\n",
    "and \n",
    "\n",
    "$$\n",
    "A(r,t)=\\frac{1}{c} \\frac{q}{4\\pi\\epsilon_0\\sqrt{1-\\left(\\frac{v}{c}\\right)^2}}\\cdot\\frac{\\frac{v}{c}}{\\left(\\frac{(x-vt_s)^2}{1-\\left(\\frac{v}{c}\\right)^2}+y^2+z^2\\right)^{1/2}}\n",
    "$$\n",
    "\n",
    "where $r=(x,y,z)$ is the position we are evaluating the potentials at. \n",
    "\n",
    "Throughout these exercises, we will want to evaluate our potentials and fields at many points - let's say $k$ points. We will be calling all our relevant functions with a variable `position` which will be a $k \\times 3$ numpy array which will store the three-dimensional positions.  \n",
    "\n",
    "Write a function `def ExactPotential(positions,t)` which takes positions and returns their field values $\\phi$ (which should be a $k$ length numpy array) and $A$ (which should be a $k \\times 3$ length numpy array). Use a velocity of $0.9c$.  For this assignment, we will always be working in SI units. You may find it useful to use `np.vstack([A_x,A_y,A_z])`\n",
    "\n",
    "The positions that we will send this function will typically be in some two-dimensional window - i.e. \n",
    "\n",
    "$$\n",
    "\\begin{aligned}\n",
    "-L &< x < L \\\\\n",
    "-L &< y < L\n",
    "\\end{aligned}\n",
    "$$\n",
    "\n",
    "Here we will let $L=0.4$ with a resolution of $1000 \\times 1000$\n",
    "\n",
    "We've given you a function `X,Y,positions=GetPositions(L,gridPoints)` which takes $L$ and the number of gridpoints in one direction, and then returns \n",
    "both the list of `positions` but also `X` and `Y`  that will be useful for plotting vector fields.  \n",
    "\n",
    "Once you have your `ExactPotential` function we will need to plot some things.  To help out with this, we've given you some additional useful functions above:\n",
    "* `PlotScalarField(field,L)` which takes the output of a scalar field (i.e. a $k$ length numpy array) and plot it in the $2L \\times 2L$ window. \n",
    "* `PlotField(X,Y,field,density=2.0)` which takes the output of a vector field (i.e. a $k \\times 3$ numpy array) and plots field lines in the $2L \\times 2L$ window. \n",
    "* `PlotSliceX(field,L,x=0,marker=None,linestyle='-')` which takes a scalar field and L and $x$ and plots the one-dimensional slice through the field at that value of $x$.\n",
    "* There is an analogous `PlotSliceY`\n",
    "After each call to these functions, you need to call `plt.show()`\n",
    "\n",
    "Using these functions, plot the logarithm of the scalar potential as well as the vector potential $A$\n",
    "\n",
    "Also plot a slice through both $\\phi$ and $A_x$ choosing $y=-0.08$ and $x=-0.1$ respectively. \n",
    "\n",
    "\n",
    "These curves will be the results you compare against later."
   ]
  },
  {
   "cell_type": "markdown",
   "metadata": {},
   "source": [
    "<div><img src=\"https://clark.physics.illinois.edu/246img/AnsStart.svg\" width=200 align=left alt=\"Answer (start)\"></img><br></div>"
   ]
  },
  {
   "cell_type": "code",
   "execution_count": 1,
   "metadata": {
    "tags": [
     "hide-cell"
    ]
   },
   "outputs": [],
   "source": [
    "### answer here"
   ]
  },
  {
   "cell_type": "markdown",
   "metadata": {},
   "source": [
    "<div><img src=\"https://clark.physics.illinois.edu/246img/AnsEnd.svg\" width=200 align=left alt=\"Answer (end)\"></img><br></div>"
   ]
  },
  {
   "cell_type": "markdown",
   "metadata": {},
   "source": [
    "### b. The Electric Field"
   ]
  },
  {
   "cell_type": "markdown",
   "metadata": {},
   "source": [
    "The electric field of a point charge moving at constant velocity $x=vt$ is \n",
    "\n",
    "$$\n",
    "E_x = \\frac{q}{4 \\pi \\epsilon_0 \\sqrt{1 - (v/c)^2}} \\frac{x - vt}{\\left(\\frac{(x - vt)^2}{1 - (v/c)^2} + y^2 + z^2\\right)^{3/2}}\n",
    "$$\n",
    "\n",
    "$$\n",
    "E_y = \\frac{q}{4 \\pi \\epsilon_0 \\sqrt{1 - (v/c)^2}} \\frac{y}{\\left(\\frac{(x - vt)^2}{1 - (v/c)^2} + y^2 + z^2\\right)^{3/2}}\n",
    "$$\n",
    "\n",
    "$$\n",
    "E_z = \\frac{q}{4 \\pi \\epsilon_0 \\sqrt{1 - (v/c)^2}} \\frac{z}{\\left(\\frac{(x - vt)^2}{1 - (v/c)^2} + y^2 + z^2\\right)^{3/2}}\n",
    "$$\n",
    "\n",
    "Implement a function which computes this for the same positions as the scalar field and plot the electric field using `PlotField`. \n",
    "\n"
   ]
  },
  {
   "cell_type": "markdown",
   "metadata": {},
   "source": [
    "<div><img src=\"https://clark.physics.illinois.edu/246img/AnsStart.svg\" width=200 align=left alt=\"Answer (start)\"></img><br></div>"
   ]
  },
  {
   "cell_type": "code",
   "execution_count": 20,
   "metadata": {
    "tags": [
     "hide-cell"
    ]
   },
   "outputs": [],
   "source": [
    "### answer here"
   ]
  },
  {
   "cell_type": "markdown",
   "metadata": {},
   "source": [
    "<div><img src=\"https://clark.physics.illinois.edu/246img/AnsEnd.svg\" width=200 align=left alt=\"Answer (end)\"></img><br></div>"
   ]
  },
  {
   "cell_type": "markdown",
   "metadata": {},
   "source": [
    "## Exercise 2.   A point charges at a constant velocity (take 2)"
   ]
  },
  {
   "cell_type": "markdown",
   "metadata": {},
   "source": [
    "We are again going to compute the field of a particle going at constant velocity but using a more general (albeit harder) approach. \n",
    "\n",
    "Our starting point in this exercise will be the Liénard–Wiechert potential  - i.e. that the scalar and vector potential fields at position $r$ and time $t$ are\n",
    "\n",
    "$$\\phi(r,t) = \\frac{q}{4\\pi\\epsilon_0}\\left(\\frac{1}{(1- n\\cdot \\beta_s) |r-r_s|} \\right)_{t_r}$$\n",
    "\n",
    "$$A(r,t) = \\frac{\\beta_s}{c}\\phi(r,t)$$\n",
    "\n",
    "where $\\beta_s(t)= v_s(t)/c$, $r_s$ is the source location of the charge, and $n_s =\\frac{r-r_s}{|r-r_s|}$. The notation $(...)_{t_r}$ indicates anything inside the parenthesis has to be evaluated at **retarded times**.  Essentially what this is telling us is that we need to (almost) use the coulomb's law we know and love but have to assume that the field moves at the speed of light to get to you!\n",
    "\n",
    "We will devlop our code for the simplest case - a point charge moving at a constant velocity - before we turn our attention in the next exercises to more interesting cases. "
   ]
  },
  {
   "cell_type": "markdown",
   "metadata": {},
   "source": [
    "### a. The Path "
   ]
  },
  {
   "cell_type": "markdown",
   "metadata": {},
   "source": [
    "Our point charge plots out some path in space $r(t)$ at some velocity $v(t)$.  We will need to implement these two functions\n",
    "\n",
    "*  `def r(tr)` which takes the time $t_r$ and returns the position of the electron as a three-element numpy array (i.e `[x,y,z]`). \n",
    "* `def velocity(tr)` which takes a time $t_r$ and returns the velocity of the electron as a three-element numpy array (i.e `[x,y,z]`)\n",
    "\n",
    "for our moving point charges throughout this assignmet. \n",
    "\n",
    "In this problem, we will  work with a particle that is moving at a constant velocity and at the origin at $t=0$ - i.e. \n",
    "\n",
    "$$x(t) = v t; y(t)=z(t)=0$$\n",
    "As in exercese 1, let the magnitude of the velocity be $|v|=0.9c$\n",
    "\n",
    "To make sure you have this correct make three plots:\n",
    "* $x(t)$ vs $t$ and $y(t)$ vs $t$ (on the same plot)\n",
    "* $v_x(t)$ vs $t$ and $v_y(t)$ vs $t$ (on the same plot)\n",
    "* $y$ vs. $x$\n",
    "\n",
    "Let $-10^{-7}<t<10^{-7}$\n",
    "\n",
    "To plot, you can do something like:\n",
    "```\n",
    "plt.plot(t,x,label=\"x\")\n",
    "plt.plot(t,y,label=\"y\")\n",
    "plt.xlabel(\"x label\")\n",
    "plt.legend()\n",
    "plt.show()\n",
    "```\n"
   ]
  },
  {
   "cell_type": "markdown",
   "metadata": {},
   "source": [
    "<div><img src=\"https://clark.physics.illinois.edu/246img/AnsStart.svg\" width=200 align=left alt=\"Answer (start)\"></img><br></div>"
   ]
  },
  {
   "cell_type": "code",
   "execution_count": 2,
   "metadata": {
    "tags": [
     "hide-cell"
    ]
   },
   "outputs": [],
   "source": [
    "### answer here"
   ]
  },
  {
   "cell_type": "markdown",
   "metadata": {},
   "source": [
    "<div><img src=\"https://clark.physics.illinois.edu/246img/AnsEnd.svg\" width=200 align=left alt=\"Answer (end)\"></img><br></div>"
   ]
  },
  {
   "cell_type": "markdown",
   "metadata": {},
   "source": [
    "### b.  Retarded time"
   ]
  },
  {
   "cell_type": "markdown",
   "metadata": {},
   "source": [
    "\n",
    "The potential at position $(x,y)$ comes from a moving point charge depends not on where the point charge is currently but depends on where the point charge was in the past - in particular, where the point charge was so that if the potential moved at the speed of light it could have reached position $(x,y)$. \n"
   ]
  },
  {
   "cell_type": "markdown",
   "metadata": {},
   "source": [
    "To accomplish this, we need to figure out, given a field position and a target time $t_0$, at what (retarded) time (and hence from where) the point charge affect the field.   This is somewhat non-trivial because (letting $f$ be the field position), we need to know that the time for the particle to get to $t_0$ (i.e. $t_0-t_r$) and the time for light to get to the field point $f$ (i.e. $|r(t_r)-f|/c$) has to be equal,\n",
    "\n",
    "$$\\frac{|r(t_r) - f|}{c} = (t_0-t_r)$$\n",
    "\n",
    "where $t_0$ is the current time and $t_r$ is the target retarded time.  In other words, the field moving at the speed of light had time to get from the source to the field point. \n",
    "\n"
   ]
  },
  {
   "cell_type": "markdown",
   "metadata": {},
   "source": [
    "Notice that this equation depends on $t_r$ both on the l.h.s. and the r.h.s.  While for a particle path $r(t_r)$ there might be an analytic equation which solves for $t_r$ that won't be the case in general.  Instead, what we will do is search or optimize for a $t_r$ that satisfies this equation.  \n",
    "\n",
    "To do this what we will do is set up a cost function `Cost(tr,t0,p)` which takes a k-length 1-d numpy array of retarded times, a scalar $t_0$ which is the instantaneous time of the source charge, and a $k  \\times 3$ numpy array of positions.  It should return a single scalar which is zero if the retarded times all are correct and is otherwise positive quantifying how far away they are.  In other words, the cost function tells you if you are satisifying the equation above.\n",
    "\n",
    "Then all we need to do is minimize the cost function.  If we find a $t_r$ for every point that makes it zero, then we know that we have found the time at which the source particle is generating the field.  \n",
    "\n",
    "You will do this optimization using the Newton-Raphson.  We've wrapped this in a `OptMeClass` for you, but essentially we are just calling Newton-Raphson.  The class\n",
    "\n",
    "```\n",
    "numPoints=positions.shape[0]\n",
    "opt=OptMeClass(cost,numPoints)\n",
    "```\n",
    "\n",
    "is initialized by giving it the cost function and the number of positions.  Then you can call it by doing\n",
    "\n",
    "```\n",
    "tr=opt.Optimize(t0,positions,maxiter)\n",
    "```\n",
    "\n",
    "where `t0` is the target time, `positions` is your array of positions and `maxiter` is the maximum number of itereations (set it to 1000 typically).   It should return an array of retarded times.  It will print out the value of the cost function and the number of times that are positive (which if you're asking it for $t_0=0$ is bad because the retarded time has to be in the pas)\n",
    "\n",
    "Other then calling the Newton-Raphsody, it's playing with the initial guesses a bit to try to help it find a reasonable answer.  I've tuned things to have \"good\" initial guesses for $t_0=0$.  If you are looking at other times (which you won't do in this assignment), you might need to tune things differently in the class.\n",
    "\n",
    "Run this and make sure that your cost function is relatively tiny (~1-e16) and that you have no positive values of the time.   \n",
    "\n",
    "Then plot the slice of time $t_r$ at $y=0$ You can do this using `PlotSliceY`.   It should look something like this:\n",
    "\n",
    "**Graph HERE**\n",
    "\n",
    "Here are some interesting things your should notice about the retarded time:\n",
    "* Field positions that are at positive $x$ require a retarded time that is more negative in time then other positions. That's because these positions are further away and it therefore takes longer for light to get there.\n",
    "* Field positions that are at the origin require no time. since that's where the source point is.\n",
    "* For both field positions with $x<0$ and $x>0$ the retarded time is linear as a function of $x$ with separate slopes."
   ]
  },
  {
   "cell_type": "markdown",
   "metadata": {},
   "source": [
    "<div><img src=\"https://clark.physics.illinois.edu/246img/AnsStart.svg\" width=200 align=left alt=\"Answer (start)\"></img><br></div>"
   ]
  },
  {
   "cell_type": "code",
   "execution_count": 3,
   "metadata": {
    "tags": [
     "hide-cell"
    ]
   },
   "outputs": [],
   "source": [
    "### answer here"
   ]
  },
  {
   "cell_type": "code",
   "execution_count": 4,
   "metadata": {
    "tags": [
     "hide-cell"
    ]
   },
   "outputs": [],
   "source": [
    "### answer here"
   ]
  },
  {
   "cell_type": "markdown",
   "metadata": {},
   "source": [
    "<div><img src=\"https://clark.physics.illinois.edu/246img/AnsEnd.svg\" width=200 align=left alt=\"Answer (end)\"></img><br></div>"
   ]
  },
  {
   "cell_type": "markdown",
   "metadata": {},
   "source": [
    "Now that you have the retarded time, we'd also like to look at which field positions correspond to which source locations.    \n",
    "\n",
    "The following code plots 20 fields points (shown as x's) and the respective source particle (shown as a solid dots) that they are connected to.  The yellow patch is the window that we are visualizing the field in.  Graph this. \n",
    "\n",
    "```\n",
    "plt.figure(figsize=(10,10))\n",
    "numPoints=np.sqrt(positions.shape[0]).astype(int)\n",
    "xCheck=np.random.randint(0,1000,size=20)\n",
    "yCheck=np.random.randint(0,1000,size=20)\n",
    "theColors=list(mcl.BASE_COLORS.keys())+list(mcl.TABLEAU_COLORS.keys())\n",
    "theColors.remove('w')\n",
    "for i in range(0,3):\n",
    "    theColors=theColors+theColors\n",
    "\n",
    "\n",
    "plt.grid()\n",
    "rect = patches.Rectangle((-L, -L), 2*L, 2*L, linewidth=1, edgecolor='r', facecolor='yellow',alpha=0.2)\n",
    "plt.gca().add_patch(rect)\n",
    "for i in range(0,len(xCheck)):\n",
    "    xi=xCheck[i]\n",
    "    yi=yCheck[i]\n",
    "    fieldPosition=positions[yi*numPoints+xi]\n",
    "    sourcePosition=r(tr[yi*numPoints+xi])\n",
    "    dist=np.linalg.norm(fieldPosition-sourcePosition)   \n",
    "    plt.plot([fieldPosition[0],sourcePosition[0]],[fieldPosition[1],sourcePosition[1]],'-',linewidth=2*dist,color=theColors[i],alpha=0.8)\n",
    "    plt.plot([fieldPosition[0]],[fieldPosition[1]],marker='x',color=theColors[i],markersize=10)\n",
    "    plt.plot([sourcePosition[0]],[sourcePosition[1]],marker='o',color=theColors[i],markersize=10)\n",
    "\n",
    "plt.plot([0],[0],marker='o',color='k',markersize=10,fillstyle='none')\n",
    "plt.show()\n",
    "```"
   ]
  },
  {
   "cell_type": "markdown",
   "metadata": {},
   "source": [
    "<div><img src=\"https://clark.physics.illinois.edu/246img/AnsStart.svg\" width=200 align=left alt=\"Answer (start)\"></img><br></div>"
   ]
  },
  {
   "cell_type": "code",
   "execution_count": 5,
   "metadata": {
    "tags": [
     "hide-cell"
    ]
   },
   "outputs": [],
   "source": [
    "### answer here"
   ]
  },
  {
   "cell_type": "markdown",
   "metadata": {},
   "source": [
    "<div><img src=\"https://clark.physics.illinois.edu/246img/AnsEnd.svg\" width=200 align=left alt=\"Answer (end)\"></img><br></div>"
   ]
  },
  {
   "cell_type": "markdown",
   "metadata": {},
   "source": [
    "### c. The scalar and vector potentials"
   ]
  },
  {
   "cell_type": "markdown",
   "metadata": {},
   "source": [
    "Now let us use the Liénard–Wiechert potential equations at the beginning of this exercise along with the retarded time we've computed to evaluate the scalar and vector potentials. Remember that $r_s$ and $v_s$ are the locations of the source at the retarded times and $r$ is the field position. \n",
    "\n",
    "Write a function `GetPotential(positions,t0,opt,r,v)` which takes the positions, the scalar $t0=0$, the optimization class, position function, and velocity function.  Make sure you are optimizing your retarded time locations inside this function!\n",
    "\n",
    "Check that you get the correct answer by doing the same slice that you did in exercise 1. "
   ]
  },
  {
   "cell_type": "markdown",
   "metadata": {},
   "source": [
    "<div><img src=\"https://clark.physics.illinois.edu/246img/AnsStart.svg\" width=200 align=left alt=\"Answer (end)\"></img><br></div>"
   ]
  },
  {
   "cell_type": "code",
   "execution_count": 6,
   "metadata": {
    "tags": [
     "hide-cell"
    ]
   },
   "outputs": [],
   "source": [
    "### answer here"
   ]
  },
  {
   "cell_type": "markdown",
   "metadata": {},
   "source": [
    "<div><img src=\"https://clark.physics.illinois.edu/246img/AnsEnd.svg\" width=200 align=left alt=\"Answer (end)\"></img><br></div>"
   ]
  },
  {
   "cell_type": "markdown",
   "metadata": {},
   "source": [
    "### d. Electric fields"
   ]
  },
  {
   "cell_type": "markdown",
   "metadata": {},
   "source": [
    "Now we want to compute the electric field.\n",
    "\n",
    "The electric field is \n",
    "\n",
    "$$ \n",
    "E=-\\nabla \\phi - \\frac{\\partial A}{\\partial t}\n",
    "$$\n",
    "\n",
    "To compute this, we need to take the derivative of the scalar field $\\phi$ with respect to the x,y, and z terms in the positions and the derivative of the vector potential with respect to time.\n",
    "\n",
    "We will take these using finite differences.    For example,\n",
    "\n",
    "$$\n",
    "\\frac{\\partial \\phi}{\\partial x}=\\frac{\\phi(x+\\delta,y,z)-\\phi(x-\\delta,y,z)}{2\\delta}\n",
    "$$\n",
    "\n",
    "Using our `GetPotential` function we can compute both the terms in this fraction and thereby evaluate the derivative.  You can do this for all six derivatives you need. \n",
    "\n",
    "Use $\\delta x=\\delta y = \\delta z = 10^{-13}$ and $\\delta t=10^{-21}$.\n",
    "\n",
    "Write a `GetFields(positions,t0,opt,r,v)` function which takes the positions, the target time $t_0$, and the optimization class, position function, and velocity function and returns the fields. \n",
    "\n",
    "Plot the electric field. \n",
    "\n",
    "Verify that you are getting the correct results by comparing with the exact answer. \n",
    "\n",
    "There are a couple interesting things you might notice:\n",
    "* The contraction of the field lines is coming from special relativity (despite us not putting in any special relativity)\n",
    "* Amazingly, despite the field values all coming form the source at different points, the field lines emanate from the current source location.  This is really pretty crazy/amazing.\n",
    "\n"
   ]
  },
  {
   "cell_type": "markdown",
   "metadata": {},
   "source": [
    "<div><img src=\"https://clark.physics.illinois.edu/246img/AnsStart.svg\" width=200 align=left alt=\"Answer (start)\"></img><br></div>"
   ]
  },
  {
   "cell_type": "code",
   "execution_count": 19,
   "metadata": {
    "tags": [
     "hide-cell"
    ]
   },
   "outputs": [],
   "source": [
    "### answer here"
   ]
  },
  {
   "cell_type": "code",
   "execution_count": 7,
   "metadata": {
    "tags": [
     "hide-cell"
    ]
   },
   "outputs": [],
   "source": [
    "### answer here"
   ]
  },
  {
   "cell_type": "markdown",
   "metadata": {},
   "source": [
    "<div><img src=\"https://clark.physics.illinois.edu/246img/AnsEnd.svg\" width=200 align=left alt=\"Answer (end)\"></img><br></div>"
   ]
  },
  {
   "cell_type": "markdown",
   "metadata": {},
   "source": [
    "## Exercise 2. Charged Particle on a Ring"
   ]
  },
  {
   "cell_type": "markdown",
   "metadata": {},
   "source": [
    "In this exercise, we can use essentially all the same code while calculating the field of a charged particle on a ring. "
   ]
  },
  {
   "cell_type": "markdown",
   "metadata": {},
   "source": [
    "### a. Charged particle on a ring"
   ]
  },
  {
   "cell_type": "markdown",
   "metadata": {},
   "source": [
    "In the previous exercise we considered a particle moving at a constant velocity.  Here let's consider a particle moving on a ring of radius $r=0.1$ at a velocity whose magnitude is 0.9c.    Write your path functions `r(t)` and `v(t)`.   Again plot \n",
    "* $x(t)$ vs $t$ and $y(t)$ vs $t$ (on the same plot)\n",
    "* $v_x(t)$ vs $t$ and $v_y(t)$ vs $t$ (on the same plot)\n",
    "* $y$ vs. $x$\n",
    "\n",
    "Let $-10^{-8}<t<10^{-8}$\n",
    "\n",
    "Using the same window and resolution\n",
    "```\n",
    "L=0.4\n",
    "numPoints=1000\n",
    "positions,X,Y=GetPositions(L,numPoints)\n",
    "```\n",
    "\n",
    "find the retarded time for these positions and (copying down the code from earlier) plot the connection between field lines and source particle locations for 20 random field locations. \n"
   ]
  },
  {
   "cell_type": "markdown",
   "metadata": {},
   "source": [
    "<div><img src=\"https://clark.physics.illinois.edu/246img/AnsStart.svg\" width=200 align=left alt=\"Answer (start)\"></img><br></div>"
   ]
  },
  {
   "cell_type": "code",
   "execution_count": 8,
   "metadata": {
    "tags": [
     "hide-cell"
    ]
   },
   "outputs": [],
   "source": [
    "### answer here"
   ]
  },
  {
   "cell_type": "code",
   "execution_count": 9,
   "metadata": {
    "tags": [
     "hide-cell"
    ]
   },
   "outputs": [],
   "source": [
    "### answer here"
   ]
  },
  {
   "cell_type": "markdown",
   "metadata": {},
   "source": [
    "<div><img src=\"https://clark.physics.illinois.edu/246img/AnsEnd.svg\" width=200 align=left alt=\"Answer (end)\"></img><br></div>"
   ]
  },
  {
   "cell_type": "markdown",
   "metadata": {},
   "source": [
    "### b. Generate the fields"
   ]
  },
  {
   "cell_type": "markdown",
   "metadata": {},
   "source": [
    "Once you have the path you should be able to call your `GetFields` function to get the field lines again.  Plot these field lines using `PlotField` but before you call `plt.show()` it's worth adding a circle of radius 0.1 so you can see where the particle is circling\n",
    "```\n",
    "circle = patches.Circle((0, 0), 0.1, edgecolor='r', facecolor='none')\n",
    "plt.gca().add_patch(circle)\n",
    "```\n",
    "\n",
    "In addition, it's instructive (and cool-looking) to plot a scalar field separately of the field strength `E_strength=np.log(E[:,0]**2+E[:,1]**2+E[:,2]**2)`.  Go ahead and do this. "
   ]
  },
  {
   "cell_type": "markdown",
   "metadata": {},
   "source": [
    "<div><img src=\"https://clark.physics.illinois.edu/246img/AnsStart.svg\" width=200 align=left alt=\"Answer (start)\"></img><br></div>"
   ]
  },
  {
   "cell_type": "code",
   "execution_count": 10,
   "metadata": {
    "tags": [
     "hide-cell"
    ]
   },
   "outputs": [],
   "source": [
    "### answer here"
   ]
  },
  {
   "cell_type": "code",
   "execution_count": 11,
   "metadata": {
    "tags": [
     "hide-cell"
    ]
   },
   "outputs": [],
   "source": [
    "### answer here"
   ]
  },
  {
   "cell_type": "markdown",
   "metadata": {},
   "source": [
    "<div><img src=\"https://clark.physics.illinois.edu/246img/AnsEnd.svg\" width=200 align=left alt=\"Answer (edn)\"></img><br></div>"
   ]
  },
  {
   "cell_type": "markdown",
   "metadata": {},
   "source": [
    "## Exercise 3.  Monopole Antannea"
   ]
  },
  {
   "cell_type": "markdown",
   "metadata": {},
   "source": [
    "### a. A one-dimensional oscillating charge"
   ]
  },
  {
   "cell_type": "markdown",
   "metadata": {},
   "source": [
    "Instead of a particle orbitting a ring of charge, let's instead do a charge oscillating back and forth in the x-direction as $x(t) = 0.1 \\cos (t v)$ where $v=9c$  \n",
    "\n",
    "Again plot \n",
    "* $x(t)$ vs $t$ and $y(t)$ vs $t$ (on the same plot)\n",
    "* $v_x(t)$ vs $t$ and $v_y(t)$ vs $t$ (on the same plot)\n",
    "* $y$ vs. $x$\n",
    "\n",
    "Let $-10^{-8}<t<10^{-8}$\n",
    "\n",
    "Make sure the velocity is correct."
   ]
  },
  {
   "cell_type": "markdown",
   "metadata": {},
   "source": [
    "<div><img src=\"https://clark.physics.illinois.edu/246img/AnsStart.svg\" width=200 align=left alt=\"Answer (edn)\"></img><br></div>"
   ]
  },
  {
   "cell_type": "code",
   "execution_count": 12,
   "metadata": {
    "tags": [
     "hide-cell"
    ]
   },
   "outputs": [],
   "source": [
    "### answer here"
   ]
  },
  {
   "cell_type": "code",
   "execution_count": 13,
   "metadata": {
    "tags": [
     "hide-cell"
    ]
   },
   "outputs": [],
   "source": [
    "### answer here"
   ]
  },
  {
   "cell_type": "markdown",
   "metadata": {},
   "source": [
    "<div><img src=\"https://clark.physics.illinois.edu/246img/AnsEnd.svg\" width=200 align=left alt=\"Answer (edn)\"></img><br></div>"
   ]
  },
  {
   "cell_type": "markdown",
   "metadata": {},
   "source": [
    "### b. The field "
   ]
  },
  {
   "cell_type": "markdown",
   "metadata": {},
   "source": [
    "Now let's generate the field.  Here it will look better if we use a window with $L=2$ - i.e.\n",
    "```\n",
    "L=2\n",
    "numPoints=1000\n",
    "positions,X,Y=GetPositions(L,numPoints)\n",
    "```\n",
    "\n",
    "Go ahead and generate the field plotting it as well as seprately the scalar field of the logarithm of the field strength.  I get nicer results for my fields if I use a `density=4.0` in the call to `GetFields`"
   ]
  },
  {
   "cell_type": "markdown",
   "metadata": {},
   "source": [
    "<div><img src=\"https://clark.physics.illinois.edu/246img/AnsStart.svg\" width=200 align=left alt=\"Answer (start)\"></img><br></div>"
   ]
  },
  {
   "cell_type": "code",
   "execution_count": 14,
   "metadata": {
    "tags": [
     "hide-cell"
    ]
   },
   "outputs": [],
   "source": [
    "### answer here"
   ]
  },
  {
   "cell_type": "code",
   "execution_count": 15,
   "metadata": {
    "tags": [
     "hide-cell"
    ]
   },
   "outputs": [],
   "source": [
    "### answer here"
   ]
  },
  {
   "cell_type": "markdown",
   "metadata": {},
   "source": [
    "<div><img src=\"https://clark.physics.illinois.edu/246img/AnsEnd.svg\" width=200 align=left alt=\"Answer (edn)\"></img><br></div>"
   ]
  },
  {
   "cell_type": "markdown",
   "metadata": {},
   "source": [
    "## Exercise 4.  An oscillating dipole"
   ]
  },
  {
   "cell_type": "markdown",
   "metadata": {},
   "source": [
    "### a.  Making the oscillating dipole"
   ]
  },
  {
   "cell_type": "markdown",
   "metadata": {},
   "source": [
    "Finally, we'd like to do an oscillating dipole. An oscillating dipole has two charges of different signs which pass back and forth by each other - i.e. the positive charge is doing $x(t) = 0.1 \\cos (t v)$  while the negative charge is doing $x(t) = -0.1 \\cos (t v)$.\n",
    "\n",
    "Define two functions `rA` and `rB` and their respective `vA` and `vB` and plot the relevant quantities to make sure that they look right."
   ]
  },
  {
   "cell_type": "markdown",
   "metadata": {},
   "source": [
    "<div><img src=\"https://clark.physics.illinois.edu/246img/AnsStart.svg\" width=200 align=left alt=\"Answer (start)\"></img><br></div>"
   ]
  },
  {
   "cell_type": "code",
   "execution_count": 16,
   "metadata": {
    "tags": [
     "hide-cell"
    ]
   },
   "outputs": [],
   "source": [
    "### answer here"
   ]
  },
  {
   "cell_type": "markdown",
   "metadata": {},
   "source": [
    "<div><img src=\"https://clark.physics.illinois.edu/246img/AnsEnd.svg\" width=200 align=left alt=\"Answer (end)\"></img><br></div>"
   ]
  },
  {
   "cell_type": "markdown",
   "metadata": {},
   "source": [
    "### b. The fields "
   ]
  },
  {
   "cell_type": "markdown",
   "metadata": {},
   "source": [
    "This will actually require a little bit of change to your code.  Potentials add but fields don't.  So in GetFields you will need to call the potential twice and add it before taking the derivatives. \n",
    "\n",
    "The changes to the code that I needed:\n",
    "* cost function now takes a position function `r` - i.e. `cost(r,tr,t0,p)`\n",
    "* `GetFields` wants to define two optimization functions, `optA` and `optB` which take two different cost functions:\n",
    "    * `partial(cost,rA)` and `partial(cost,rB)` \n",
    "* In `GetFields`, you have to call the potential twice and add them.  Each potential gets called with its own optimization function, position function, and velocity function. Remember to pay attention to the sign of the charge (which can be implemented by just \"subtracting\" the two potentials)\n",
    "\n",
    "Once you've made these modification you should be able to use the rest of your code as is to produce the fields.  Use here $L=4$\n"
   ]
  },
  {
   "cell_type": "markdown",
   "metadata": {},
   "source": [
    "<div><img src=\"https://clark.physics.illinois.edu/246img/AnsStart.svg\" width=200 align=left alt=\"Answer (start)\"></img><br></div>"
   ]
  },
  {
   "cell_type": "code",
   "execution_count": 17,
   "metadata": {
    "tags": [
     "hide-cell"
    ]
   },
   "outputs": [],
   "source": [
    "### answer here"
   ]
  },
  {
   "cell_type": "code",
   "execution_count": 18,
   "metadata": {
    "tags": [
     "hide-cell"
    ]
   },
   "outputs": [],
   "source": [
    "### answer here"
   ]
  },
  {
   "cell_type": "markdown",
   "metadata": {},
   "source": [
    "<div><img src=\"https://clark.physics.illinois.edu/246img/AnsEnd.svg\" width=200 align=left alt=\"Answer (end)\"></img><br></div>"
   ]
  }
 ],
 "metadata": {
  "kernelspec": {
   "display_name": "Python 3",
   "language": "python",
   "name": "python3"
  },
  "language_info": {
   "codemirror_mode": {
    "name": "ipython",
    "version": 3
   },
   "file_extension": ".py",
   "mimetype": "text/x-python",
   "name": "python",
   "nbconvert_exporter": "python",
   "pygments_lexer": "ipython3",
   "version": "3.9.6"
  }
 },
 "nbformat": 4,
 "nbformat_minor": 2
}
